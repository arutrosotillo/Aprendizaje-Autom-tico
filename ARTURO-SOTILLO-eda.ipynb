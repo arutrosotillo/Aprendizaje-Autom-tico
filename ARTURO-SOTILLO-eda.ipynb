{
 "cells": [
  {
   "cell_type": "markdown",
   "metadata": {},
   "source": [
    "Arturo Sotillo Barraca - 100484973"
   ]
  },
  {
   "cell_type": "code",
   "execution_count": 39,
   "metadata": {},
   "outputs": [],
   "source": [
    "# -*- coding: utf-8 -*-\n",
    "\n",
    "# Install pandas if not already installed\n",
    "#%pip install pandas\n",
    "\n",
    "import pandas as pd\n"
   ]
  },
  {
   "cell_type": "code",
   "execution_count": 40,
   "metadata": {},
   "outputs": [],
   "source": [
    "# Cargar los archivos\n",
    "available_data = pd.read_csv('Data/attrition_availabledata_10.csv')\n",
    "competition_data = pd.read_csv('Data/attrition_competition_10.csv')"
   ]
  },
  {
   "cell_type": "markdown",
   "metadata": {},
   "source": [
    "El primer paso es cargar los datos y obtener un resumen general del dataset, que me permitirá entender cuántas filas y columnas tiene, qué tipos de variables contiene, y si hay valores nulos."
   ]
  },
  {
   "cell_type": "code",
   "execution_count": 41,
   "metadata": {},
   "outputs": [
    {
     "name": "stdout",
     "output_type": "stream",
     "text": [
      "<class 'pandas.core.frame.DataFrame'>\n",
      "RangeIndex: 2940 entries, 0 to 2939\n",
      "Data columns (total 31 columns):\n",
      " #   Column                   Non-Null Count  Dtype  \n",
      "---  ------                   --------------  -----  \n",
      " 0   hrs                      2940 non-null   float64\n",
      " 1   absences                 2940 non-null   int64  \n",
      " 2   JobInvolvement           2940 non-null   int64  \n",
      " 3   PerformanceRating        2940 non-null   int64  \n",
      " 4   EnvironmentSatisfaction  2925 non-null   float64\n",
      " 5   JobSatisfaction          2928 non-null   float64\n",
      " 6   WorkLifeBalance          2911 non-null   float64\n",
      " 7   Age                      2940 non-null   int64  \n",
      " 8   BusinessTravel           2940 non-null   object \n",
      " 9   Department               2940 non-null   object \n",
      " 10  DistanceFromHome         2940 non-null   int64  \n",
      " 11  Education                2940 non-null   int64  \n",
      " 12  EducationField           2940 non-null   object \n",
      " 13  EmployeeCount            2940 non-null   int64  \n",
      " 14  EmployeeID               2940 non-null   int64  \n",
      " 15  Gender                   2940 non-null   object \n",
      " 16  JobLevel                 2940 non-null   int64  \n",
      " 17  JobRole                  2940 non-null   object \n",
      " 18  MaritalStatus            2940 non-null   object \n",
      " 19  MonthlyIncome            2940 non-null   int64  \n",
      " 20  NumCompaniesWorked       2923 non-null   float64\n",
      " 21  Over18                   2940 non-null   object \n",
      " 22  PercentSalaryHike        2940 non-null   int64  \n",
      " 23  StandardHours            2940 non-null   int64  \n",
      " 24  StockOptionLevel         2940 non-null   int64  \n",
      " 25  TotalWorkingYears        2935 non-null   float64\n",
      " 26  TrainingTimesLastYear    2940 non-null   int64  \n",
      " 27  YearsAtCompany           2940 non-null   int64  \n",
      " 28  YearsSinceLastPromotion  2940 non-null   int64  \n",
      " 29  YearsWithCurrManager     2940 non-null   int64  \n",
      " 30  Attrition                2940 non-null   object \n",
      "dtypes: float64(6), int64(17), object(8)\n",
      "memory usage: 712.2+ KB\n",
      "None\n",
      "        hrs  absences  JobInvolvement  PerformanceRating  \\\n",
      "0  7.462297        13               3                  3   \n",
      "1  7.488597         6               1                  3   \n",
      "2  7.116541        16               2                  4   \n",
      "3  9.709125         6               3                  4   \n",
      "4  6.297729         6               4                  3   \n",
      "\n",
      "   EnvironmentSatisfaction  JobSatisfaction  WorkLifeBalance  Age  \\\n",
      "0                      3.0              3.0              3.0   48   \n",
      "1                      3.0              4.0              4.0   31   \n",
      "2                      1.0              1.0              3.0   36   \n",
      "3                      3.0              3.0              3.0   49   \n",
      "4                      3.0              2.0              3.0   40   \n",
      "\n",
      "      BusinessTravel              Department  ...  Over18  PercentSalaryHike  \\\n",
      "0      Travel_Rarely  Research & Development  ...       Y                 13   \n",
      "1  Travel_Frequently  Research & Development  ...       Y                 17   \n",
      "2      Travel_Rarely  Research & Development  ...       Y                 24   \n",
      "3      Travel_Rarely  Research & Development  ...       Y                 22   \n",
      "4  Travel_Frequently  Research & Development  ...       Y                 13   \n",
      "\n",
      "  StandardHours  StockOptionLevel  TotalWorkingYears TrainingTimesLastYear  \\\n",
      "0             8                 1               18.0                     2   \n",
      "1             8                 1                3.0                     2   \n",
      "2             8                 0                6.0                     6   \n",
      "3             8                 0               25.0                     2   \n",
      "4             8                 1                8.0                     3   \n",
      "\n",
      "   YearsAtCompany YearsSinceLastPromotion YearsWithCurrManager  Attrition  \n",
      "0               8                       7                    7         No  \n",
      "1               1                       0                    0        Yes  \n",
      "2               5                       0                    3         No  \n",
      "3               7                       0                    7         No  \n",
      "4               8                       3                    7         No  \n",
      "\n",
      "[5 rows x 31 columns]\n",
      "               hrs     absences  JobInvolvement  PerformanceRating  \\\n",
      "count  2940.000000  2940.000000     2940.000000        2940.000000   \n",
      "mean      7.343023    12.626871        2.725170           3.150000   \n",
      "std       1.344743     5.473052        0.702384           0.357132   \n",
      "min       5.416880     1.000000        1.000000           3.000000   \n",
      "25%       6.285664     8.000000        2.000000           3.000000   \n",
      "50%       7.048879    13.000000        3.000000           3.000000   \n",
      "75%       8.008627    17.000000        3.000000           3.000000   \n",
      "max      10.937261    24.000000        4.000000           4.000000   \n",
      "\n",
      "       EnvironmentSatisfaction  JobSatisfaction  WorkLifeBalance          Age  \\\n",
      "count              2925.000000      2928.000000      2911.000000  2940.000000   \n",
      "mean                  2.723077         2.721995         2.758846    36.868707   \n",
      "std                   1.095897         1.106817         0.704602     9.053869   \n",
      "min                   1.000000         1.000000         1.000000    18.000000   \n",
      "25%                   2.000000         2.000000         2.000000    30.000000   \n",
      "50%                   3.000000         3.000000         3.000000    36.000000   \n",
      "75%                   4.000000         4.000000         3.000000    43.000000   \n",
      "max                   4.000000         4.000000         4.000000    60.000000   \n",
      "\n",
      "       DistanceFromHome    Education  ...  MonthlyIncome  NumCompaniesWorked  \\\n",
      "count       2940.000000  2940.000000  ...    2940.000000         2923.000000   \n",
      "mean           9.146599     2.903061  ...   65335.258503            2.639069   \n",
      "std            8.051168     1.028246  ...   47379.053635            2.487355   \n",
      "min            1.000000     1.000000  ...   10090.000000            0.000000   \n",
      "25%            2.000000     2.000000  ...   29040.000000            1.000000   \n",
      "50%            7.000000     3.000000  ...   49385.000000            1.000000   \n",
      "75%           14.000000     4.000000  ...   83920.000000            4.000000   \n",
      "max           29.000000     5.000000  ...  199990.000000            9.000000   \n",
      "\n",
      "       PercentSalaryHike  StandardHours  StockOptionLevel  TotalWorkingYears  \\\n",
      "count        2940.000000         2940.0       2940.000000        2935.000000   \n",
      "mean           15.166667            8.0          0.791837          11.266780   \n",
      "std             3.641110            0.0          0.848633           7.768597   \n",
      "min            11.000000            8.0          0.000000           0.000000   \n",
      "25%            12.000000            8.0          0.000000           6.000000   \n",
      "50%            14.000000            8.0          1.000000          10.000000   \n",
      "75%            18.000000            8.0          1.000000          15.000000   \n",
      "max            25.000000            8.0          3.000000          40.000000   \n",
      "\n",
      "       TrainingTimesLastYear  YearsAtCompany  YearsSinceLastPromotion  \\\n",
      "count            2940.000000     2940.000000              2940.000000   \n",
      "mean                2.787075        7.075170                 2.231973   \n",
      "std                 1.286027        6.205245                 3.241121   \n",
      "min                 0.000000        0.000000                 0.000000   \n",
      "25%                 2.000000        3.000000                 0.000000   \n",
      "50%                 3.000000        5.000000                 1.000000   \n",
      "75%                 3.000000       10.000000                 3.000000   \n",
      "max                 6.000000       40.000000                15.000000   \n",
      "\n",
      "       YearsWithCurrManager  \n",
      "count           2940.000000  \n",
      "mean               4.155442  \n",
      "std                3.615304  \n",
      "min                0.000000  \n",
      "25%                2.000000  \n",
      "50%                3.000000  \n",
      "75%                7.000000  \n",
      "max               17.000000  \n",
      "\n",
      "[8 rows x 23 columns]\n"
     ]
    }
   ],
   "source": [
    "# Ver el tipo de datos y columnas\n",
    "print(available_data.info())\n",
    "\n",
    "# Ver las primeras filas para tener una idea de los datos\n",
    "print(available_data.head())\n",
    "\n",
    "# Estadísticas descriptivas para variables numéricas\n",
    "print(available_data.describe())"
   ]
  },
  {
   "cell_type": "markdown",
   "metadata": {},
   "source": [
    "Ya que hay columnas con valores faltantes, hay que decidir como manejarlas.\n",
    "\n",
    "Usaré la mediana para columnas faltantes (JobSatisfaction, WorkLifeBalance, EnvironmentSatisfaction)"
   ]
  },
  {
   "cell_type": "code",
   "execution_count": 42,
   "metadata": {},
   "outputs": [
    {
     "name": "stdout",
     "output_type": "stream",
     "text": [
      "hrs                        0\n",
      "absences                   0\n",
      "JobInvolvement             0\n",
      "PerformanceRating          0\n",
      "EnvironmentSatisfaction    0\n",
      "JobSatisfaction            0\n",
      "WorkLifeBalance            0\n",
      "Age                        0\n",
      "BusinessTravel             0\n",
      "Department                 0\n",
      "DistanceFromHome           0\n",
      "Education                  0\n",
      "EducationField             0\n",
      "EmployeeCount              0\n",
      "EmployeeID                 0\n",
      "Gender                     0\n",
      "JobLevel                   0\n",
      "JobRole                    0\n",
      "MaritalStatus              0\n",
      "MonthlyIncome              0\n",
      "NumCompaniesWorked         0\n",
      "Over18                     0\n",
      "PercentSalaryHike          0\n",
      "StandardHours              0\n",
      "StockOptionLevel           0\n",
      "TotalWorkingYears          0\n",
      "TrainingTimesLastYear      0\n",
      "YearsAtCompany             0\n",
      "YearsSinceLastPromotion    0\n",
      "YearsWithCurrManager       0\n",
      "Attrition                  0\n",
      "dtype: int64\n"
     ]
    },
    {
     "name": "stderr",
     "output_type": "stream",
     "text": [
      "/var/folders/y8/ss_gg5ds3_s47h8spcs628180000gn/T/ipykernel_58471/1912497357.py:2: FutureWarning: A value is trying to be set on a copy of a DataFrame or Series through chained assignment using an inplace method.\n",
      "The behavior will change in pandas 3.0. This inplace method will never work because the intermediate object on which we are setting values always behaves as a copy.\n",
      "\n",
      "For example, when doing 'df[col].method(value, inplace=True)', try using 'df.method({col: value}, inplace=True)' or df[col] = df[col].method(value) instead, to perform the operation inplace on the original object.\n",
      "\n",
      "\n",
      "  available_data['EnvironmentSatisfaction'].fillna(available_data['EnvironmentSatisfaction'].median(), inplace=True)\n",
      "/var/folders/y8/ss_gg5ds3_s47h8spcs628180000gn/T/ipykernel_58471/1912497357.py:3: FutureWarning: A value is trying to be set on a copy of a DataFrame or Series through chained assignment using an inplace method.\n",
      "The behavior will change in pandas 3.0. This inplace method will never work because the intermediate object on which we are setting values always behaves as a copy.\n",
      "\n",
      "For example, when doing 'df[col].method(value, inplace=True)', try using 'df.method({col: value}, inplace=True)' or df[col] = df[col].method(value) instead, to perform the operation inplace on the original object.\n",
      "\n",
      "\n",
      "  available_data['JobSatisfaction'].fillna(available_data['JobSatisfaction'].median(), inplace=True)\n",
      "/var/folders/y8/ss_gg5ds3_s47h8spcs628180000gn/T/ipykernel_58471/1912497357.py:4: FutureWarning: A value is trying to be set on a copy of a DataFrame or Series through chained assignment using an inplace method.\n",
      "The behavior will change in pandas 3.0. This inplace method will never work because the intermediate object on which we are setting values always behaves as a copy.\n",
      "\n",
      "For example, when doing 'df[col].method(value, inplace=True)', try using 'df.method({col: value}, inplace=True)' or df[col] = df[col].method(value) instead, to perform the operation inplace on the original object.\n",
      "\n",
      "\n",
      "  available_data['WorkLifeBalance'].fillna(available_data['WorkLifeBalance'].median(), inplace=True)\n",
      "/var/folders/y8/ss_gg5ds3_s47h8spcs628180000gn/T/ipykernel_58471/1912497357.py:5: FutureWarning: A value is trying to be set on a copy of a DataFrame or Series through chained assignment using an inplace method.\n",
      "The behavior will change in pandas 3.0. This inplace method will never work because the intermediate object on which we are setting values always behaves as a copy.\n",
      "\n",
      "For example, when doing 'df[col].method(value, inplace=True)', try using 'df.method({col: value}, inplace=True)' or df[col] = df[col].method(value) instead, to perform the operation inplace on the original object.\n",
      "\n",
      "\n",
      "  available_data['NumCompaniesWorked'].fillna(available_data['NumCompaniesWorked'].median(), inplace=True)\n",
      "/var/folders/y8/ss_gg5ds3_s47h8spcs628180000gn/T/ipykernel_58471/1912497357.py:6: FutureWarning: A value is trying to be set on a copy of a DataFrame or Series through chained assignment using an inplace method.\n",
      "The behavior will change in pandas 3.0. This inplace method will never work because the intermediate object on which we are setting values always behaves as a copy.\n",
      "\n",
      "For example, when doing 'df[col].method(value, inplace=True)', try using 'df.method({col: value}, inplace=True)' or df[col] = df[col].method(value) instead, to perform the operation inplace on the original object.\n",
      "\n",
      "\n",
      "  available_data['TotalWorkingYears'].fillna(available_data['TotalWorkingYears'].median(), inplace=True)\n"
     ]
    }
   ],
   "source": [
    "\n",
    "# Imputar los valores faltantes con la mediana\n",
    "available_data['EnvironmentSatisfaction'].fillna(available_data['EnvironmentSatisfaction'].median(), inplace=True)\n",
    "available_data['JobSatisfaction'].fillna(available_data['JobSatisfaction'].median(), inplace=True)\n",
    "available_data['WorkLifeBalance'].fillna(available_data['WorkLifeBalance'].median(), inplace=True)\n",
    "available_data['NumCompaniesWorked'].fillna(available_data['NumCompaniesWorked'].median(), inplace=True)\n",
    "available_data['TotalWorkingYears'].fillna(available_data['TotalWorkingYears'].median(), inplace=True)\n",
    "\n",
    "\n",
    "# Verificar si los valores faltantes se han resuelto\n",
    "print(available_data.isnull().sum())"
   ]
  },
  {
   "cell_type": "markdown",
   "metadata": {},
   "source": [
    "Debemos asegurarnos de que las columnas categóricas estén como tipo category, lo que mejora el rendimiento del modelo. También, hemos clasificado las columnas por tipos, como pide el enunciado ( ...son categóricas/ordinales/numéricas...)"
   ]
  },
  {
   "cell_type": "code",
   "execution_count": 49,
   "metadata": {},
   "outputs": [
    {
     "name": "stdout",
     "output_type": "stream",
     "text": [
      "hrs                         float64\n",
      "absences                      int64\n",
      "JobInvolvement                int64\n",
      "PerformanceRating             int64\n",
      "EnvironmentSatisfaction     float64\n",
      "JobSatisfaction             float64\n",
      "WorkLifeBalance             float64\n",
      "Age                           int64\n",
      "BusinessTravel             category\n",
      "Department                 category\n",
      "DistanceFromHome              int64\n",
      "Education                     int64\n",
      "EducationField             category\n",
      "Gender                     category\n",
      "JobLevel                      int64\n",
      "JobRole                    category\n",
      "MaritalStatus              category\n",
      "MonthlyIncome                 int64\n",
      "NumCompaniesWorked          float64\n",
      "PercentSalaryHike             int64\n",
      "StockOptionLevel              int64\n",
      "TotalWorkingYears           float64\n",
      "TrainingTimesLastYear         int64\n",
      "YearsAtCompany                int64\n",
      "YearsSinceLastPromotion       int64\n",
      "YearsWithCurrManager          int64\n",
      "Attrition                  category\n",
      "dtype: object\n"
     ]
    }
   ],
   "source": [
    "# Variables categóricas\n",
    "categorical_columns = ['BusinessTravel', 'Department', 'Gender', 'JobRole', 'MaritalStatus', 'EducationField']\n",
    "\n",
    "# Variables ordinales (basadas en el contexto y las etiquetas numéricas)\n",
    "ordinal_columns = ['JobInvolvement', 'PerformanceRating', 'WorkLifeBalance']\n",
    "\n",
    "# Variables numéricas (todas las demás que no sean categóricas ni ordinales)\n",
    "numerical_columns = [col for col in available_data.select_dtypes(include=['float64', 'int64']).columns if col not in categorical_columns + ordinal_columns]\n",
    "\n",
    "# Convertir las variables categóricas y la variable dependiente 'Attrition' a tipo 'category'\n",
    "for col in categorical_columns:\n",
    "    available_data[col] = available_data[col].astype('category')\n",
    "\n",
    "# Convertir la variable dependiente 'Attrition' a tipo 'category'\n",
    "available_data['Attrition'] = available_data['Attrition'].astype('category')\n",
    "\n",
    "# Realizar one-hot encoding de las columnas categóricas\n",
    "available_data_encoded = pd.get_dummies(available_data, columns=categorical_columns, drop_first=True)\n",
    "\n",
    "# Verificar los tipos de datos\n",
    "print(available_data.dtypes)\n"
   ]
  },
  {
   "cell_type": "markdown",
   "metadata": {},
   "source": [
    "Despues de haber limpiado la data un poco, vamos a identificar si hay variables categóricas con alta cardinalidad. Si alguna de las variables tiene demasiados valores únicos, se podría considerar eliminarla.\n",
    "\n",
    "Por ejemplo:\n",
    "Hay algúnas columnas que son irrelevantes para el análisis y se pueden eliminar. \n",
    "\n",
    "· EmployeeCount: Tiene el mismo valor en todas las filas, por lo que no aporta información útil para el modelo.\n",
    "\n",
    "· EmployeeID: Es un identificador único, lo cual no es útil para el análisis.\n",
    "\n",
    "· Over18: Todos los empleados tienen 18 años o más, por lo que podemos eliminar esta columna."
   ]
  },
  {
   "cell_type": "code",
   "execution_count": 44,
   "metadata": {},
   "outputs": [
    {
     "name": "stdout",
     "output_type": "stream",
     "text": [
      "Cardinalidad de las variables categóricas:\n",
      "BusinessTravel    3\n",
      "Department        3\n",
      "Gender            2\n",
      "JobRole           9\n",
      "MaritalStatus     3\n",
      "EducationField    6\n",
      "dtype: int64\n",
      "Columnas constantes o de ID: ['EmployeeCount', 'Over18', 'StandardHours']\n"
     ]
    }
   ],
   "source": [
    "# Revisar cuántos valores únicos tiene cada columna categórica\n",
    "cardinality = available_data[categorical_columns].nunique()\n",
    "print(\"Cardinalidad de las variables categóricas:\")\n",
    "print(cardinality)\n",
    "\n",
    "# Verificar si alguna columna tiene un solo valor único\n",
    "constant_columns = [col for col in available_data.columns if available_data[col].nunique() == 1]\n",
    "print(f\"Columnas constantes o de ID: {constant_columns}\")\n",
    "\n",
    "# Eliminar columnas constantes o de ID\n",
    "available_data.drop(constant_columns, axis=1, inplace=True)\n",
    "\n",
    "# Employee ID no es una variable de interés, por lo que se elimina\n",
    "available_data.drop(['EmployeeID'], axis=1, inplace=True)\n"
   ]
  },
  {
   "cell_type": "markdown",
   "metadata": {},
   "source": [
    "Es de clasificación, ya que la variable objetivo (Attrition) es una variable categórica con dos clases: \"Yes\" y \"No\".\n",
    "¿Está desbalanceado?: Para verificar si el problema está desbalanceado, revisaré la distribución de la variable Attrition."
   ]
  },
  {
   "cell_type": "code",
   "execution_count": 45,
   "metadata": {},
   "outputs": [
    {
     "name": "stdout",
     "output_type": "stream",
     "text": [
      "Attrition\n",
      "No     2466\n",
      "Yes     474\n",
      "Name: count, dtype: int64\n"
     ]
    },
    {
     "data": {
      "image/png": "[encoded data removed]",
      "text/plain": [
       "<Figure size 640x480 with 1 Axes>"
      ]
     },
     "metadata": {},
     "output_type": "display_data"
    }
   ],
   "source": [
    "#%pip install matplotlib\n",
    "import matplotlib.pyplot as plt\n",
    "\n",
    "# Ver distribución de la variable 'Attrition'\n",
    "print(available_data['Attrition'].value_counts())\n",
    "\n",
    "# Visualizar la distribución de 'Attrition'\n",
    "available_data['Attrition'].value_counts().plot(kind='bar')\n",
    "plt.title('Distribución de Attrition')\n",
    "plt.ylabel('Número de empleados')\n",
    "plt.xticks(ticks=[0, 1], labels=['Se quedó', 'Dejó la empresa'], rotation=0)\n",
    "plt.show()"
   ]
  },
  {
   "cell_type": "markdown",
   "metadata": {},
   "source": [
    "El gráfico muestra una distribución desbalanceada, donde la mayoría de los empleados se quedan en la empresa (No), y una minoría deja la empresa (Yes). Este es un problema de clasificación desbalanceada, lo cual significa que:\n",
    "\n",
    "Los modelos pueden tender a predecir la clase mayoritaria (\"No\" en este caso) con mayor precisión, pero podrían tener problemas para identificar correctamente a la clase minoritaria (\"Yes\").\n",
    "\n",
    "Impacto: El modelo puede no aprender bien sobre la dinámica de los empleados que dejan la empresa, lo que podría ser crítico para hacer predicciones útiles."
   ]
  },
  {
   "cell_type": "markdown",
   "metadata": {},
   "source": [
    "Ahora que ya tenemos el EDA simplificado, pasaremos a planificar la evaluación del modelo (dividir los datos, que métricas usar etc.)"
   ]
  },
  {
   "cell_type": "code",
   "execution_count": 46,
   "metadata": {},
   "outputs": [],
   "source": [
    "# Código para dividir los datos en entrenamiento y prueba\n",
    "#%pip install scikit-learn\n",
    "#%pip install sklearn\n",
    "# Paso 1: Importar las librerías necesarias\n",
    "from sklearn.model_selection import train_test_split, GridSearchCV\n",
    "from sklearn.ensemble import RandomForestClassifier\n",
    "from sklearn.metrics import balanced_accuracy_score, accuracy_score, confusion_matrix\n",
    "\n",
    "\n",
    "# Dividir los datos en train (2/3) y test (1/3)\n",
    "X = available_data.drop('Attrition', axis=1)  # Características\n",
    "y = available_data['Attrition']  # Etiqueta (target)\n",
    "\n",
    "# Realizar la división (2/3 entrenamiento, 1/3 prueba)\n",
    "X_train, X_test, y_train, y_test = train_test_split(X, y, test_size=0.33, random_state=42)\n"
   ]
  },
  {
   "cell_type": "markdown",
   "metadata": {},
   "source": [
    "Ahora vamos a definir el clasificador Random Forest y los hiperparámetros a ajustar\n",
    "\n",
    "En este paso, vamos a utilizar el **Random Forest Classifier** como clasificador para el modelo. **Random Forest** es un modelo de aprendizaje supervisado basado en la creación de múltiples árboles de decisión, que luego se combinan para hacer una predicción más robusta. Este modelo es adecuado para tareas de clasificación y es especialmente útil cuando los datos tienen muchas características.\n",
    "\n",
    "A continuación, definimos los **hiperparámetros** que vamos a ajustar usando **GridSearchCV**:\n",
    "- **`n_estimators`**: El número de árboles en el bosque. Probamos con 50, 100 y 200 árboles.\n",
    "- **`max_depth`**: La profundidad máxima de los árboles. Probamos sin límite, 10 y 20.\n",
    "- **`min_samples_split`**: El número mínimo de muestras necesarias para dividir un nodo. Probamos con 2, 5 y 10.\n"
   ]
  },
  {
   "cell_type": "code",
   "execution_count": 47,
   "metadata": {},
   "outputs": [],
   "source": [
    "rf = RandomForestClassifier(random_state=42)\n",
    "\n",
    "param_grid = {\n",
    "    'n_estimators': [50, 100, 200],\n",
    "    'max_depth': [None, 10, 20],\n",
    "    'min_samples_split': [2, 5, 10],\n",
    "}"
   ]
  },
  {
   "cell_type": "markdown",
   "metadata": {},
   "source": [
    "Usaré **GridSearchCV** para encontrar los mejores hiperparámetros.\n",
    "\n",
    "**GridSearchCV** es una técnica para ajustar los hiperparámetros de un modelo mediante la búsqueda en un \"cuadrícula\" de combinaciones posibles. En este caso, probaremos todas las combinaciones de los hiperparámetros definidos anteriormente y seleccionaremos la combinación que proporcione el mejor rendimiento en el conjunto de entrenamiento.\n",
    "\n",
    "Aquí usamos **5-fold cross-validation** para evaluar el rendimiento del modelo para cada combinación de hiperparámetros. El modelo se evalúa usando la métrica de accuracy."
   ]
  },
  {
   "cell_type": "code",
   "execution_count": 51,
   "metadata": {},
   "outputs": [
    {
     "ename": "ValueError",
     "evalue": "\nAll the 135 fits failed.\nIt is very likely that your model is misconfigured.\nYou can try to debug the error by setting error_score='raise'.\n\nBelow are more details about the failures:\n--------------------------------------------------------------------------------\n135 fits failed with the following error:\nTraceback (most recent call last):\n  File \"/Users/arturosotillobarraca/Library/Python/3.9/lib/python/site-packages/sklearn/model_selection/_validation.py\", line 866, in _fit_and_score\n    estimator.fit(X_train, y_train, **fit_params)\n  File \"/Users/arturosotillobarraca/Library/Python/3.9/lib/python/site-packages/sklearn/base.py\", line 1389, in wrapper\n    return fit_method(estimator, *args, **kwargs)\n  File \"/Users/arturosotillobarraca/Library/Python/3.9/lib/python/site-packages/sklearn/ensemble/_forest.py\", line 360, in fit\n    X, y = validate_data(\n  File \"/Users/arturosotillobarraca/Library/Python/3.9/lib/python/site-packages/sklearn/utils/validation.py\", line 2961, in validate_data\n    X, y = check_X_y(X, y, **check_params)\n  File \"/Users/arturosotillobarraca/Library/Python/3.9/lib/python/site-packages/sklearn/utils/validation.py\", line 1370, in check_X_y\n    X = check_array(\n  File \"/Users/arturosotillobarraca/Library/Python/3.9/lib/python/site-packages/sklearn/utils/validation.py\", line 1055, in check_array\n    array = _asarray_with_order(array, order=order, dtype=dtype, xp=xp)\n  File \"/Users/arturosotillobarraca/Library/Python/3.9/lib/python/site-packages/sklearn/utils/_array_api.py\", line 839, in _asarray_with_order\n    array = numpy.asarray(array, order=order, dtype=dtype)\n  File \"/Users/arturosotillobarraca/Library/Python/3.9/lib/python/site-packages/pandas/core/generic.py\", line 2153, in __array__\n    arr = np.asarray(values, dtype=dtype)\nValueError: could not convert string to float: 'Non-Travel'\n",
     "output_type": "error",
     "traceback": [
      "\u001b[0;31m---------------------------------------------------------------------------\u001b[0m",
      "\u001b[0;31mValueError\u001b[0m                                Traceback (most recent call last)",
      "Cell \u001b[0;32mIn[51], line 2\u001b[0m\n\u001b[1;32m      1\u001b[0m grid_search \u001b[38;5;241m=\u001b[39m GridSearchCV(estimator\u001b[38;5;241m=\u001b[39mrf, param_grid\u001b[38;5;241m=\u001b[39mparam_grid, cv\u001b[38;5;241m=\u001b[39m\u001b[38;5;241m5\u001b[39m, scoring\u001b[38;5;241m=\u001b[39m\u001b[38;5;124m'\u001b[39m\u001b[38;5;124maccuracy\u001b[39m\u001b[38;5;124m'\u001b[39m, n_jobs\u001b[38;5;241m=\u001b[39m\u001b[38;5;241m-\u001b[39m\u001b[38;5;241m1\u001b[39m)\n\u001b[0;32m----> 2\u001b[0m \u001b[43mgrid_search\u001b[49m\u001b[38;5;241;43m.\u001b[39;49m\u001b[43mfit\u001b[49m\u001b[43m(\u001b[49m\u001b[43mX_train\u001b[49m\u001b[43m,\u001b[49m\u001b[43m \u001b[49m\u001b[43my_train\u001b[49m\u001b[43m)\u001b[49m\n\u001b[1;32m      4\u001b[0m \u001b[38;5;66;03m# Obtenemos el mejor modelo\u001b[39;00m\n\u001b[1;32m      5\u001b[0m \u001b[38;5;28mprint\u001b[39m(\u001b[38;5;124mf\u001b[39m\u001b[38;5;124m\"\u001b[39m\u001b[38;5;124mMejores parámetros: \u001b[39m\u001b[38;5;132;01m{\u001b[39;00mgrid_search\u001b[38;5;241m.\u001b[39mbest_params_\u001b[38;5;132;01m}\u001b[39;00m\u001b[38;5;124m\"\u001b[39m)\n",
      "File \u001b[0;32m~/Library/Python/3.9/lib/python/site-packages/sklearn/base.py:1389\u001b[0m, in \u001b[0;36m_fit_context.<locals>.decorator.<locals>.wrapper\u001b[0;34m(estimator, *args, **kwargs)\u001b[0m\n\u001b[1;32m   1382\u001b[0m     estimator\u001b[38;5;241m.\u001b[39m_validate_params()\n\u001b[1;32m   1384\u001b[0m \u001b[38;5;28;01mwith\u001b[39;00m config_context(\n\u001b[1;32m   1385\u001b[0m     skip_parameter_validation\u001b[38;5;241m=\u001b[39m(\n\u001b[1;32m   1386\u001b[0m         prefer_skip_nested_validation \u001b[38;5;129;01mor\u001b[39;00m global_skip_validation\n\u001b[1;32m   1387\u001b[0m     )\n\u001b[1;32m   1388\u001b[0m ):\n\u001b[0;32m-> 1389\u001b[0m     \u001b[38;5;28;01mreturn\u001b[39;00m \u001b[43mfit_method\u001b[49m\u001b[43m(\u001b[49m\u001b[43mestimator\u001b[49m\u001b[43m,\u001b[49m\u001b[43m \u001b[49m\u001b[38;5;241;43m*\u001b[39;49m\u001b[43margs\u001b[49m\u001b[43m,\u001b[49m\u001b[43m \u001b[49m\u001b[38;5;241;43m*\u001b[39;49m\u001b[38;5;241;43m*\u001b[39;49m\u001b[43mkwargs\u001b[49m\u001b[43m)\u001b[49m\n",
      "File \u001b[0;32m~/Library/Python/3.9/lib/python/site-packages/sklearn/model_selection/_search.py:1024\u001b[0m, in \u001b[0;36mBaseSearchCV.fit\u001b[0;34m(self, X, y, **params)\u001b[0m\n\u001b[1;32m   1018\u001b[0m     results \u001b[38;5;241m=\u001b[39m \u001b[38;5;28mself\u001b[39m\u001b[38;5;241m.\u001b[39m_format_results(\n\u001b[1;32m   1019\u001b[0m         all_candidate_params, n_splits, all_out, all_more_results\n\u001b[1;32m   1020\u001b[0m     )\n\u001b[1;32m   1022\u001b[0m     \u001b[38;5;28;01mreturn\u001b[39;00m results\n\u001b[0;32m-> 1024\u001b[0m \u001b[38;5;28;43mself\u001b[39;49m\u001b[38;5;241;43m.\u001b[39;49m\u001b[43m_run_search\u001b[49m\u001b[43m(\u001b[49m\u001b[43mevaluate_candidates\u001b[49m\u001b[43m)\u001b[49m\n\u001b[1;32m   1026\u001b[0m \u001b[38;5;66;03m# multimetric is determined here because in the case of a callable\u001b[39;00m\n\u001b[1;32m   1027\u001b[0m \u001b[38;5;66;03m# self.scoring the return type is only known after calling\u001b[39;00m\n\u001b[1;32m   1028\u001b[0m first_test_score \u001b[38;5;241m=\u001b[39m all_out[\u001b[38;5;241m0\u001b[39m][\u001b[38;5;124m\"\u001b[39m\u001b[38;5;124mtest_scores\u001b[39m\u001b[38;5;124m\"\u001b[39m]\n",
      "File \u001b[0;32m~/Library/Python/3.9/lib/python/site-packages/sklearn/model_selection/_search.py:1571\u001b[0m, in \u001b[0;36mGridSearchCV._run_search\u001b[0;34m(self, evaluate_candidates)\u001b[0m\n\u001b[1;32m   1569\u001b[0m \u001b[38;5;28;01mdef\u001b[39;00m\u001b[38;5;250m \u001b[39m\u001b[38;5;21m_run_search\u001b[39m(\u001b[38;5;28mself\u001b[39m, evaluate_candidates):\n\u001b[1;32m   1570\u001b[0m \u001b[38;5;250m    \u001b[39m\u001b[38;5;124;03m\"\"\"Search all candidates in param_grid\"\"\"\u001b[39;00m\n\u001b[0;32m-> 1571\u001b[0m     \u001b[43mevaluate_candidates\u001b[49m\u001b[43m(\u001b[49m\u001b[43mParameterGrid\u001b[49m\u001b[43m(\u001b[49m\u001b[38;5;28;43mself\u001b[39;49m\u001b[38;5;241;43m.\u001b[39;49m\u001b[43mparam_grid\u001b[49m\u001b[43m)\u001b[49m\u001b[43m)\u001b[49m\n",
      "File \u001b[0;32m~/Library/Python/3.9/lib/python/site-packages/sklearn/model_selection/_search.py:1001\u001b[0m, in \u001b[0;36mBaseSearchCV.fit.<locals>.evaluate_candidates\u001b[0;34m(candidate_params, cv, more_results)\u001b[0m\n\u001b[1;32m    994\u001b[0m \u001b[38;5;28;01melif\u001b[39;00m \u001b[38;5;28mlen\u001b[39m(out) \u001b[38;5;241m!=\u001b[39m n_candidates \u001b[38;5;241m*\u001b[39m n_splits:\n\u001b[1;32m    995\u001b[0m     \u001b[38;5;28;01mraise\u001b[39;00m \u001b[38;5;167;01mValueError\u001b[39;00m(\n\u001b[1;32m    996\u001b[0m         \u001b[38;5;124m\"\u001b[39m\u001b[38;5;124mcv.split and cv.get_n_splits returned \u001b[39m\u001b[38;5;124m\"\u001b[39m\n\u001b[1;32m    997\u001b[0m         \u001b[38;5;124m\"\u001b[39m\u001b[38;5;124minconsistent results. Expected \u001b[39m\u001b[38;5;132;01m{}\u001b[39;00m\u001b[38;5;124m \u001b[39m\u001b[38;5;124m\"\u001b[39m\n\u001b[1;32m    998\u001b[0m         \u001b[38;5;124m\"\u001b[39m\u001b[38;5;124msplits, got \u001b[39m\u001b[38;5;132;01m{}\u001b[39;00m\u001b[38;5;124m\"\u001b[39m\u001b[38;5;241m.\u001b[39mformat(n_splits, \u001b[38;5;28mlen\u001b[39m(out) \u001b[38;5;241m/\u001b[39m\u001b[38;5;241m/\u001b[39m n_candidates)\n\u001b[1;32m    999\u001b[0m     )\n\u001b[0;32m-> 1001\u001b[0m \u001b[43m_warn_or_raise_about_fit_failures\u001b[49m\u001b[43m(\u001b[49m\u001b[43mout\u001b[49m\u001b[43m,\u001b[49m\u001b[43m \u001b[49m\u001b[38;5;28;43mself\u001b[39;49m\u001b[38;5;241;43m.\u001b[39;49m\u001b[43merror_score\u001b[49m\u001b[43m)\u001b[49m\n\u001b[1;32m   1003\u001b[0m \u001b[38;5;66;03m# For callable self.scoring, the return type is only know after\u001b[39;00m\n\u001b[1;32m   1004\u001b[0m \u001b[38;5;66;03m# calling. If the return type is a dictionary, the error scores\u001b[39;00m\n\u001b[1;32m   1005\u001b[0m \u001b[38;5;66;03m# can now be inserted with the correct key. The type checking\u001b[39;00m\n\u001b[1;32m   1006\u001b[0m \u001b[38;5;66;03m# of out will be done in `_insert_error_scores`.\u001b[39;00m\n\u001b[1;32m   1007\u001b[0m \u001b[38;5;28;01mif\u001b[39;00m \u001b[38;5;28mcallable\u001b[39m(\u001b[38;5;28mself\u001b[39m\u001b[38;5;241m.\u001b[39mscoring):\n",
      "File \u001b[0;32m~/Library/Python/3.9/lib/python/site-packages/sklearn/model_selection/_validation.py:517\u001b[0m, in \u001b[0;36m_warn_or_raise_about_fit_failures\u001b[0;34m(results, error_score)\u001b[0m\n\u001b[1;32m    510\u001b[0m \u001b[38;5;28;01mif\u001b[39;00m num_failed_fits \u001b[38;5;241m==\u001b[39m num_fits:\n\u001b[1;32m    511\u001b[0m     all_fits_failed_message \u001b[38;5;241m=\u001b[39m (\n\u001b[1;32m    512\u001b[0m         \u001b[38;5;124mf\u001b[39m\u001b[38;5;124m\"\u001b[39m\u001b[38;5;130;01m\\n\u001b[39;00m\u001b[38;5;124mAll the \u001b[39m\u001b[38;5;132;01m{\u001b[39;00mnum_fits\u001b[38;5;132;01m}\u001b[39;00m\u001b[38;5;124m fits failed.\u001b[39m\u001b[38;5;130;01m\\n\u001b[39;00m\u001b[38;5;124m\"\u001b[39m\n\u001b[1;32m    513\u001b[0m         \u001b[38;5;124m\"\u001b[39m\u001b[38;5;124mIt is very likely that your model is misconfigured.\u001b[39m\u001b[38;5;130;01m\\n\u001b[39;00m\u001b[38;5;124m\"\u001b[39m\n\u001b[1;32m    514\u001b[0m         \u001b[38;5;124m\"\u001b[39m\u001b[38;5;124mYou can try to debug the error by setting error_score=\u001b[39m\u001b[38;5;124m'\u001b[39m\u001b[38;5;124mraise\u001b[39m\u001b[38;5;124m'\u001b[39m\u001b[38;5;124m.\u001b[39m\u001b[38;5;130;01m\\n\u001b[39;00m\u001b[38;5;130;01m\\n\u001b[39;00m\u001b[38;5;124m\"\u001b[39m\n\u001b[1;32m    515\u001b[0m         \u001b[38;5;124mf\u001b[39m\u001b[38;5;124m\"\u001b[39m\u001b[38;5;124mBelow are more details about the failures:\u001b[39m\u001b[38;5;130;01m\\n\u001b[39;00m\u001b[38;5;132;01m{\u001b[39;00mfit_errors_summary\u001b[38;5;132;01m}\u001b[39;00m\u001b[38;5;124m\"\u001b[39m\n\u001b[1;32m    516\u001b[0m     )\n\u001b[0;32m--> 517\u001b[0m     \u001b[38;5;28;01mraise\u001b[39;00m \u001b[38;5;167;01mValueError\u001b[39;00m(all_fits_failed_message)\n\u001b[1;32m    519\u001b[0m \u001b[38;5;28;01melse\u001b[39;00m:\n\u001b[1;32m    520\u001b[0m     some_fits_failed_message \u001b[38;5;241m=\u001b[39m (\n\u001b[1;32m    521\u001b[0m         \u001b[38;5;124mf\u001b[39m\u001b[38;5;124m\"\u001b[39m\u001b[38;5;130;01m\\n\u001b[39;00m\u001b[38;5;132;01m{\u001b[39;00mnum_failed_fits\u001b[38;5;132;01m}\u001b[39;00m\u001b[38;5;124m fits failed out of a total of \u001b[39m\u001b[38;5;132;01m{\u001b[39;00mnum_fits\u001b[38;5;132;01m}\u001b[39;00m\u001b[38;5;124m.\u001b[39m\u001b[38;5;130;01m\\n\u001b[39;00m\u001b[38;5;124m\"\u001b[39m\n\u001b[1;32m    522\u001b[0m         \u001b[38;5;124m\"\u001b[39m\u001b[38;5;124mThe score on these train-test partitions for these parameters\u001b[39m\u001b[38;5;124m\"\u001b[39m\n\u001b[0;32m   (...)\u001b[0m\n\u001b[1;32m    526\u001b[0m         \u001b[38;5;124mf\u001b[39m\u001b[38;5;124m\"\u001b[39m\u001b[38;5;124mBelow are more details about the failures:\u001b[39m\u001b[38;5;130;01m\\n\u001b[39;00m\u001b[38;5;132;01m{\u001b[39;00mfit_errors_summary\u001b[38;5;132;01m}\u001b[39;00m\u001b[38;5;124m\"\u001b[39m\n\u001b[1;32m    527\u001b[0m     )\n",
      "\u001b[0;31mValueError\u001b[0m: \nAll the 135 fits failed.\nIt is very likely that your model is misconfigured.\nYou can try to debug the error by setting error_score='raise'.\n\nBelow are more details about the failures:\n--------------------------------------------------------------------------------\n135 fits failed with the following error:\nTraceback (most recent call last):\n  File \"/Users/arturosotillobarraca/Library/Python/3.9/lib/python/site-packages/sklearn/model_selection/_validation.py\", line 866, in _fit_and_score\n    estimator.fit(X_train, y_train, **fit_params)\n  File \"/Users/arturosotillobarraca/Library/Python/3.9/lib/python/site-packages/sklearn/base.py\", line 1389, in wrapper\n    return fit_method(estimator, *args, **kwargs)\n  File \"/Users/arturosotillobarraca/Library/Python/3.9/lib/python/site-packages/sklearn/ensemble/_forest.py\", line 360, in fit\n    X, y = validate_data(\n  File \"/Users/arturosotillobarraca/Library/Python/3.9/lib/python/site-packages/sklearn/utils/validation.py\", line 2961, in validate_data\n    X, y = check_X_y(X, y, **check_params)\n  File \"/Users/arturosotillobarraca/Library/Python/3.9/lib/python/site-packages/sklearn/utils/validation.py\", line 1370, in check_X_y\n    X = check_array(\n  File \"/Users/arturosotillobarraca/Library/Python/3.9/lib/python/site-packages/sklearn/utils/validation.py\", line 1055, in check_array\n    array = _asarray_with_order(array, order=order, dtype=dtype, xp=xp)\n  File \"/Users/arturosotillobarraca/Library/Python/3.9/lib/python/site-packages/sklearn/utils/_array_api.py\", line 839, in _asarray_with_order\n    array = numpy.asarray(array, order=order, dtype=dtype)\n  File \"/Users/arturosotillobarraca/Library/Python/3.9/lib/python/site-packages/pandas/core/generic.py\", line 2153, in __array__\n    arr = np.asarray(values, dtype=dtype)\nValueError: could not convert string to float: 'Non-Travel'\n"
     ]
    }
   ],
   "source": [
    "grid_search = GridSearchCV(estimator=rf, param_grid=param_grid, cv=5, scoring='accuracy', n_jobs=-1)\n",
    "grid_search.fit(X_train, y_train)\n",
    "\n",
    "# Obtenemos el mejor modelo\n",
    "print(f\"Mejores parámetros: {grid_search.best_params_}\")\n",
    "best_model = grid_search.best_estimator_\n"
   ]
  },
  {
   "cell_type": "markdown",
   "metadata": {},
   "source": [
    "Usamos el modelo entrenado con los mejores hiperparámetros para hacer predicciones sobre el conjunto de **prueba (X_test)**. Luego, calculamos varias métricas para evaluar el rendimiento del modelo:\n",
    "\n",
    "· **Balanced Accuracy**: Esta métrica toma en cuenta el desbalanceo de clases y calcula el promedio de la sensibilidad (TPR) y la especificidad (TNR).\n",
    "\n",
    "· **Accuracy**: La proporción de predicciones correctas en general.\n",
    "\n",
    "· **True Positive Rate (TPR)**: La capacidad del modelo para detectar correctamente los casos positivos (empleados que dejaron la empresa).\n",
    "\n",
    "· **True Negative Rate (TNR)**: La capacidad del modelo para detectar correctamente los casos negativos (empleados que no dejaron la empresa)."
   ]
  },
  {
   "cell_type": "code",
   "execution_count": null,
   "metadata": {},
   "outputs": [],
   "source": [
    "y_pred = best_model.predict(X_test)\n",
    "balanced_acc = balanced_accuracy_score(y_test, y_pred)\n",
    "accuracy = accuracy_score(y_test, y_pred)\n",
    "\n",
    "cm = confusion_matrix(y_test, y_pred)\n",
    "TP = cm[1, 1]  # Verdaderos positivos\n",
    "TN = cm[0, 0]  # Verdaderos negativos\n",
    "FP = cm[0, 1]  # Falsos positivos\n",
    "FN = cm[1, 0]  # Falsos negativos\n",
    "\n",
    "TPR = TP / (TP + FN)  # True Positive Rate (Sensibilidad)\n",
    "TNR = TN / (TN + FP)  # True Negative Rate (Especificidad)\n",
    "\n",
    "print(f\"Balanced Accuracy: {balanced_acc}\")\n",
    "print(f\"Accuracy: {accuracy}\")\n",
    "print(f\"TPR (Sensitivity): {TPR}\")\n",
    "print(f\"TNR (Specificity): {TNR}\")\n",
    "print(f\"Matriz de confusión:\\n{cm}\")\n"
   ]
  },
  {
   "cell_type": "markdown",
   "metadata": {},
   "source": [
    "El ajuste de hiperparámetros (HPO) se llevará a cabo utilizando Cross-Validation (CV) en el conjunto de entrenamiento.\n",
    "Cross-Validation se utilizará para seleccionar los mejores hiperparámetros y evitar el sobreajuste (overfitting). Una buena opción es usar KFold Cross-Validation."
   ]
  },
  {
   "cell_type": "code",
   "execution_count": null,
   "metadata": {},
   "outputs": [],
   "source": [
    "from sklearn.model_selection import GridSearchCV\n",
    "\n",
    "# Ejemplo con un clasificador como Random Forest\n",
    "from sklearn.ensemble import RandomForestClassifier\n",
    "\n",
    "# Definir el clasificador\n",
    "rf = RandomForestClassifier(random_state=42)\n",
    "\n",
    "# Definir los hiperparámetros para ajustar\n",
    "param_grid = {\n",
    "    'n_estimators': [50, 100, 200],\n",
    "    'max_depth': [None, 10, 20],\n",
    "    'min_samples_split': [2, 5, 10],\n",
    "}\n",
    "\n",
    "# Usar GridSearchCV para encontrar los mejores hiperparámetros\n",
    "grid_search = GridSearchCV(estimator=rf, param_grid=param_grid, cv=5, scoring='accuracy', n_jobs=-1)\n",
    "grid_search.fit(X_train, y_train)\n",
    "\n",
    "# Mostrar los mejores parámetros encontrados\n",
    "print(f\"Mejores hiperparámetros: {grid_search.best_params_}\")\n"
   ]
  },
  {
   "cell_type": "markdown",
   "metadata": {},
   "source": [
    "Ahora usaré el conjunto de test (que ha sido separado previamente) para evaluar el rendimiento final del modelo."
   ]
  },
  {
   "cell_type": "code",
   "execution_count": null,
   "metadata": {},
   "outputs": [],
   "source": [
    "# Evaluar el modelo final usando el conjunto de test\n",
    "final_model = grid_search.best_estimator_\n",
    "final_pred = final_model.predict(X_test)\n",
    "\n",
    "# Calcular métricas finales\n",
    "final_balanced_acc = balanced_accuracy_score(y_test, final_pred)\n",
    "final_accuracy = accuracy_score(y_test, final_pred)\n",
    "\n",
    "final_cm = confusion_matrix(y_test, final_pred)\n",
    "final_TPR = final_cm[1, 1] / (final_cm[1, 1] + final_cm[1, 0])\n",
    "final_TNR = final_cm[0, 0] / (final_cm[0, 0] + final_cm[0, 1])\n",
    "\n",
    "print(f\"Final Balanced Accuracy: {final_balanced_acc}\")\n",
    "print(f\"Final Accuracy: {final_accuracy}\")\n",
    "print(f\"Final TPR: {final_TPR}\")\n",
    "print(f\"Final TNR: {final_TNR}\")\n",
    "print(f\"Final Confusion Matrix:\\n{final_cm}\")"
   ]
  }
 ],
 "metadata": {
  "kernelspec": {
   "display_name": "Python 3",
   "language": "python",
   "name": "python3"
  },
  "language_info": {
   "codemirror_mode": {
    "name": "ipython",
    "version": 3
   },
   "file_extension": ".py",
   "mimetype": "text/x-python",
   "name": "python",
   "nbconvert_exporter": "python",
   "pygments_lexer": "ipython3",
   "version": "3.9.6"
  }
 },
 "nbformat": 4,
 "nbformat_minor": 4
}
