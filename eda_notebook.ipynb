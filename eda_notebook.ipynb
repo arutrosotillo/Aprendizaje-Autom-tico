{
 "cells": [
  {
   "cell_type": "markdown",
   "metadata": {},
   "source": [
    "Arturo Sotillo Barraca - 100484973"
   ]
  },
  {
   "cell_type": "code",
   "execution_count": null,
   "metadata": {},
   "outputs": [],
   "source": [
    "# -*- coding: utf-8 -*-\n",
    "\n",
    "# Install pandas if not already installed\n",
    "%pip install pandas\n",
    "\n",
    "import pandas as pd\n"
   ]
  },
  {
   "cell_type": "code",
   "execution_count": 3,
   "metadata": {},
   "outputs": [],
   "source": [
    "# Cargar los archivos\n",
    "available_data = pd.read_csv('Data/attrition_availabledata_00.csv')\n",
    "competition_data = pd.read_csv('Data/attrition_competition_00.csv')"
   ]
  },
  {
   "cell_type": "markdown",
   "metadata": {},
   "source": [
    "El primer paso es cargar los datos y obtener un resumen general del dataset, que me permitirá entender cuántas filas y columnas tiene, qué tipos de variables contiene, y si hay valores nulos."
   ]
  },
  {
   "cell_type": "code",
   "execution_count": null,
   "metadata": {},
   "outputs": [],
   "source": [
    "# Ver el tipo de datos y columnas\n",
    "print(available_data.info())\n",
    "\n",
    "# Ver las primeras filas para tener una idea de los datos\n",
    "print(available_data.head())\n",
    "\n",
    "# Estadísticas descriptivas para variables numéricas\n",
    "print(available_data.describe())"
   ]
  },
  {
   "cell_type": "markdown",
   "metadata": {},
   "source": [
    "Ya que hay columnas con valores faltantes, hay que decidir como manejarlas.\n",
    "\n",
    "Usaré la mediana para columnas faltantes (JobSatisfaction, WorkLifeBalance, EnvironmentSatisfaction)"
   ]
  },
  {
   "cell_type": "code",
   "execution_count": 8,
   "metadata": {},
   "outputs": [
    {
     "name": "stdout",
     "output_type": "stream",
     "text": [
      "hrs                        0\n",
      "absences                   0\n",
      "JobInvolvement             0\n",
      "PerformanceRating          0\n",
      "EnvironmentSatisfaction    0\n",
      "JobSatisfaction            0\n",
      "WorkLifeBalance            0\n",
      "Age                        0\n",
      "BusinessTravel             0\n",
      "Department                 0\n",
      "DistanceFromHome           0\n",
      "Education                  0\n",
      "EducationField             0\n",
      "EmployeeCount              0\n",
      "EmployeeID                 0\n",
      "Gender                     0\n",
      "JobLevel                   0\n",
      "JobRole                    0\n",
      "MaritalStatus              0\n",
      "MonthlyIncome              0\n",
      "NumCompaniesWorked         0\n",
      "Over18                     0\n",
      "PercentSalaryHike          0\n",
      "StandardHours              0\n",
      "StockOptionLevel           0\n",
      "TotalWorkingYears          0\n",
      "TrainingTimesLastYear      0\n",
      "YearsAtCompany             0\n",
      "YearsSinceLastPromotion    0\n",
      "YearsWithCurrManager       0\n",
      "Attrition                  0\n",
      "dtype: int64\n"
     ]
    }
   ],
   "source": [
    "# Imputar los valores faltantes con la mediana\n",
    "available_data['EnvironmentSatisfaction'].fillna(available_data['EnvironmentSatisfaction'].median(), inplace=True)\n",
    "available_data['JobSatisfaction'].fillna(available_data['JobSatisfaction'].median(), inplace=True)\n",
    "available_data['WorkLifeBalance'].fillna(available_data['WorkLifeBalance'].median(), inplace=True)\n",
    "available_data['NumCompaniesWorked'].fillna(available_data['NumCompaniesWorked'].median(), inplace=True)\n",
    "available_data['TotalWorkingYears'].fillna(available_data['TotalWorkingYears'].median(), inplace=True)\n",
    "\n",
    "\n",
    "# Verificar si los valores faltantes se han resuelto\n",
    "print(available_data.isnull().sum())\n"
   ]
  },
  {
   "cell_type": "markdown",
   "metadata": {},
   "source": [
    "Lo siguiente es clasificar las variables en tres categorías: Categóricas, ordinales y numéricas."
   ]
  }
 ],
 "metadata": {
  "kernelspec": {
   "display_name": "Python 3",
   "language": "python",
   "name": "python3"
  },
  "language_info": {
   "codemirror_mode": {
    "name": "ipython",
    "version": 3
   },
   "file_extension": ".py",
   "mimetype": "text/x-python",
   "name": "python",
   "nbconvert_exporter": "python",
   "pygments_lexer": "ipython3",
   "version": "3.9.6"
  }
 },
 "nbformat": 4,
 "nbformat_minor": 4
}
